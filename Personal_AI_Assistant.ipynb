{
  "cells": [
    {
      "cell_type": "markdown",
      "metadata": {
        "id": "view-in-github",
        "colab_type": "text"
      },
      "source": [
        "<a href=\"https://colab.research.google.com/github/marvelcodeX/Personal_AI_Assistant/blob/main/Personal_AI_Assistant.ipynb\" target=\"_parent\"><img src=\"https://colab.research.google.com/assets/colab-badge.svg\" alt=\"Open In Colab\"/></a>"
      ]
    },
    {
      "cell_type": "markdown",
      "id": "2f2391fa",
      "metadata": {
        "id": "2f2391fa"
      },
      "source": [
        "#  Personal AI Assistant in Google Colab (No OpenAI Key Needed)\n",
        "This notebook will help you and your students build a simple **AI Assistant** using open-source models (no API key required)."
      ]
    },
    {
      "cell_type": "markdown",
      "id": "b43c26e3",
      "metadata": {
        "id": "b43c26e3"
      },
      "source": [
        "## Step 1: Install Transformers\n",
        "We will use Hugging Face Transformers library to run free AI models."
      ]
    },
    {
      "cell_type": "markdown",
      "source": [],
      "metadata": {
        "id": "8Py7vSF3Bdzq"
      },
      "id": "8Py7vSF3Bdzq"
    },
    {
      "cell_type": "code",
      "execution_count": null,
      "id": "15faba37",
      "metadata": {
        "id": "15faba37"
      },
      "outputs": [],
      "source": [
        "!pip install transformers torch accelerate -q"
      ]
    },
    {
      "cell_type": "markdown",
      "id": "b7ff3c90",
      "metadata": {
        "id": "b7ff3c90"
      },
      "source": [
        "## Step 2: Import a Model\n",
        "We will use Google's **Flan-T5 Small** model for Q&A and chat."
      ]
    },
    {
      "cell_type": "code",
      "execution_count": null,
      "id": "55f578ea",
      "metadata": {
        "id": "55f578ea"
      },
      "outputs": [],
      "source": [
        "from transformers import pipeline\n",
        "\n",
        "# Load a small open-source model\n",
        "assistant = pipeline('text2text-generation', model='google/flan-t5-small')"
      ]
    },
    {
      "cell_type": "markdown",
      "id": "68a09f6f",
      "metadata": {
        "id": "68a09f6f"
      },
      "source": [
        "## Step 3: Build a Chat Function\n",
        "This function keeps track of chat history and generates AI responses."
      ]
    },
    {
      "cell_type": "code",
      "execution_count": null,
      "id": "752f053d",
      "metadata": {
        "id": "752f053d"
      },
      "outputs": [],
      "source": [
        "chat_history = []\n",
        "\n",
        "def ask_ai(user_input):\n",
        "    global chat_history\n",
        "    # Add user input to history\n",
        "    chat_history.append(f'User: {user_input}')\n",
        "\n",
        "    # Use last 5 turns as context\n",
        "    context = '\\n'.join(chat_history[-5:])\n",
        "\n",
        "    # Generate response\n",
        "    response = assistant(context)[0]['generated_text']\n",
        "\n",
        "    # Save response\n",
        "    chat_history.append(f'Assistant: {response}')\n",
        "    return response"
      ]
    },
    {
      "cell_type": "markdown",
      "id": "90ff65d0",
      "metadata": {
        "id": "90ff65d0"
      },
      "source": [
        "## Step 4: Chat with Your Assistant\n",
        "Now you can chat with your AI assistant directly in Colab. Type 'exit' to stop."
      ]
    },
    {
      "cell_type": "code",
      "execution_count": null,
      "id": "de7c7594",
      "metadata": {
        "id": "de7c7594"
      },
      "outputs": [],
      "source": [
        "while True:\n",
        "    user_input = input('You: ')\n",
        "    if user_input.lower() in ['exit', 'quit', 'bye']:\n",
        "        print('👋 Assistant: Goodbye!')\n",
        "        break\n",
        "    reply = ask_ai(user_input)\n",
        "    print('🤖 Assistant:', reply)"
      ]
    },
    {
      "cell_type": "code",
      "source": [],
      "metadata": {
        "id": "KDSLl8j1EqNd"
      },
      "id": "KDSLl8j1EqNd",
      "execution_count": null,
      "outputs": []
    }
  ],
  "metadata": {
    "colab": {
      "provenance": [],
      "include_colab_link": true
    },
    "kernelspec": {
      "display_name": "Python 3",
      "name": "python3"
    },
    "language_info": {
      "name": "python"
    }
  },
  "nbformat": 4,
  "nbformat_minor": 5
}